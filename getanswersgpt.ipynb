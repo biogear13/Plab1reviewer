{
 "cells": [
  {
   "cell_type": "code",
   "execution_count": 1,
   "metadata": {},
   "outputs": [],
   "source": [
    "# Use openai to provide answers with explanations that will be use to populate tha chat column and the answer column\n",
    "# import the packages necessary to use openai\n",
    "import openai\n",
    "import os\n",
    "import pandas as pd\n",
    "import numpy as np\n",
    "from dotenv import load_dotenv\n",
    "load_dotenv()\n",
    "openai.api_key = os.getenv('OPENAI_API_KEY')"
   ]
  },
  {
   "cell_type": "code",
   "execution_count": 2,
   "metadata": {},
   "outputs": [],
   "source": [
    "def BasicGeneration(userPrompt):\n",
    "    completion = openai.ChatCompletion.create(\n",
    "        model = \"gpt-3.5-turbo\",\n",
    "        messages = [\n",
    "            {\"role\": \"user\", \"content\": userPrompt}\n",
    "        ]\n",
    "    )\n",
    "    return completion.choices[0].message.content"
   ]
  },
  {
   "cell_type": "code",
   "execution_count": 3,
   "metadata": {},
   "outputs": [],
   "source": [
    "# open plabfile_cleaned.csv in pandas\n",
    "working_df = pd.read_csv('plabfile_cleaned.csv')"
   ]
  },
  {
   "cell_type": "code",
   "execution_count": 4,
   "metadata": {},
   "outputs": [
    {
     "data": {
      "text/plain": [
       "'key: the key is a. na+=130, k+=6.5. [in addison’s disease there is low na+, low cl-, low co2 and raised k+].'"
      ]
     },
     "execution_count": 4,
     "metadata": {},
     "output_type": "execute_result"
    }
   ],
   "source": [
    "working_df['key'][1500]"
   ]
  },
  {
   "cell_type": "code",
   "execution_count": 5,
   "metadata": {},
   "outputs": [
    {
     "data": {
      "text/plain": [
       "'a'"
      ]
     },
     "execution_count": 5,
     "metadata": {},
     "output_type": "execute_result"
    }
   ],
   "source": [
    "# get the specific letter key from the key column which is after the text 'key: the key is ' and place is it a new column called key_letter\n",
    "working_df['key_letter'] = working_df['key'].str.extract(r'key: the key is ([a-z])')\n",
    "working_df['key_letter'][1500]"
   ]
  },
  {
   "cell_type": "code",
   "execution_count": 6,
   "metadata": {},
   "outputs": [],
   "source": [
    "working_df=pd.read_csv('plab_chatgpt.csv')"
   ]
  },
  {
   "cell_type": "code",
   "execution_count": 7,
   "metadata": {},
   "outputs": [
    {
     "name": "stdout",
     "output_type": "stream",
     "text": [
      "Asking question number 101\n",
      "Asking question number 102\n",
      "Asking question number 103\n",
      "Asking question number 104\n",
      "Asking question number 105\n",
      "Asking question number 106\n",
      "Asking question number 107\n",
      "Asking question number 108\n",
      "Asking question number 109\n",
      "Asking question number 110\n",
      "Asking question number 111\n",
      "Asking question number 112\n",
      "Asking question number 113\n",
      "Asking question number 114\n",
      "Asking question number 115\n",
      "Asking question number 116\n",
      "Asking question number 117\n",
      "Asking question number 118\n",
      "Asking question number 119\n",
      "Asking question number 120\n",
      "Asking question number 121\n",
      "Asking question number 122\n",
      "Asking question number 123\n",
      "Question number 123 failed\n",
      "Asking question number 124\n",
      "Asking question number 125\n",
      "Asking question number 126\n",
      "Asking question number 127\n",
      "Asking question number 128\n",
      "Asking question number 129\n",
      "Asking question number 130\n",
      "Asking question number 131\n",
      "Asking question number 132\n",
      "Asking question number 133\n",
      "Asking question number 134\n",
      "Asking question number 135\n",
      "Asking question number 136\n",
      "Asking question number 137\n",
      "Asking question number 138\n",
      "Asking question number 139\n",
      "Asking question number 140\n",
      "Asking question number 141\n",
      "Asking question number 142\n",
      "Asking question number 143\n",
      "Asking question number 144\n",
      "Asking question number 145\n",
      "Asking question number 146\n",
      "Asking question number 147\n",
      "Asking question number 148\n",
      "Asking question number 149\n",
      "Asking question number 150\n",
      "Asking question number 151\n",
      "Asking question number 152\n",
      "Asking question number 153\n",
      "Asking question number 154\n",
      "Asking question number 155\n",
      "Asking question number 156\n",
      "Asking question number 157\n",
      "Asking question number 158\n",
      "Asking question number 159\n",
      "Asking question number 160\n",
      "Asking question number 161\n",
      "Asking question number 162\n",
      "Asking question number 163\n",
      "Asking question number 164\n",
      "Asking question number 165\n",
      "Asking question number 166\n",
      "Asking question number 167\n",
      "Asking question number 168\n",
      "Asking question number 169\n",
      "Asking question number 170\n",
      "Asking question number 171\n",
      "Asking question number 172\n",
      "Asking question number 173\n",
      "Asking question number 174\n",
      "Asking question number 175\n",
      "Asking question number 176\n",
      "Asking question number 177\n",
      "Asking question number 178\n",
      "Asking question number 179\n",
      "Asking question number 180\n",
      "Asking question number 181\n",
      "Asking question number 182\n",
      "Asking question number 183\n",
      "Asking question number 184\n",
      "Asking question number 185\n",
      "Asking question number 186\n",
      "Asking question number 187\n",
      "Asking question number 188\n"
     ]
    }
   ],
   "source": [
    "import time\n",
    "\n",
    "def get_answer(working_df):\n",
    "    for i in range(len(working_df)):\n",
    "        if pd.isnull(working_df['chat'][i]):\n",
    "            try:\n",
    "                print(f'Asking question number {i+1}')\n",
    "                start_time = time.time()\n",
    "                working_df['chat'][i] = BasicGeneration(f\"Improve on this answer: \\n {working_df['key'][i]} \\n To the following question in order to explain the correct answer and why the other choices are wrong. Make sure the result is just one paragraph: \\n {working_df['question'][i]} Answer: {working_df['a'][i]} {working_df['b'][i]} {working_df['c'][i]} {working_df['d'][i]} {working_df['e'][i]} {working_df['f'][i]} {working_df['g'][i]} {working_df['h'][i]} {working_df['i'][i]} {working_df['j'][i]}\")\n",
    "                elapsed_time = time.time() - start_time\n",
    "                if elapsed_time > TIMEOUT_THRESHOLD:\n",
    "                    print(f'Question number {i+1} took too long. Saving progress and exiting...')\n",
    "                    working_df.to_csv('plab_chatgpt.csv', index=False)\n",
    "                    return working_df\n",
    "            except:\n",
    "                print(f'Question number {i+1} failed')\n",
    "    # save the working_df to plab_chatgpt.csv\n",
    "    working_df.to_csv('plab_chatgpt.csv', index=False)\n",
    "    return working_df\n",
    "\n",
    "TIMEOUT_THRESHOLD = 60  # Adjust the timeout threshold as needed\n",
    "working_df = get_answer(working_df)"
   ]
  },
  {
   "cell_type": "code",
   "execution_count": null,
   "metadata": {},
   "outputs": [
    {
     "ename": "NameError",
     "evalue": "name 'working_df' is not defined",
     "output_type": "error",
     "traceback": [
      "\u001b[0;31m---------------------------------------------------------------------------\u001b[0m",
      "\u001b[0;31mNameError\u001b[0m                                 Traceback (most recent call last)",
      "\u001b[0;32m/tmp/ipykernel_1627/3902173921.py\u001b[0m in \u001b[0;36m<module>\u001b[0;34m\u001b[0m\n\u001b[1;32m      1\u001b[0m \u001b[0;31m# save the working_df to plab_chatgpt.csv\u001b[0m\u001b[0;34m\u001b[0m\u001b[0;34m\u001b[0m\u001b[0m\n\u001b[0;32m----> 2\u001b[0;31m \u001b[0mworking_df\u001b[0m\u001b[0;34m.\u001b[0m\u001b[0mto_csv\u001b[0m\u001b[0;34m(\u001b[0m\u001b[0;34m'plab_chatgpt.csv'\u001b[0m\u001b[0;34m,\u001b[0m \u001b[0mindex\u001b[0m\u001b[0;34m=\u001b[0m\u001b[0;32mFalse\u001b[0m\u001b[0;34m)\u001b[0m\u001b[0;34m\u001b[0m\u001b[0;34m\u001b[0m\u001b[0m\n\u001b[0m",
      "\u001b[0;31mNameError\u001b[0m: name 'working_df' is not defined"
     ]
    }
   ],
   "source": [
    "# save the working_df to plab_chatgpt.csv\n",
    "working_df.to_csv('plab_chatgpt.csv', index=False)"
   ]
  }
 ],
 "metadata": {
  "kernelspec": {
   "display_name": "minimal_ds",
   "language": "python",
   "name": "python3"
  },
  "language_info": {
   "codemirror_mode": {
    "name": "ipython",
    "version": 3
   },
   "file_extension": ".py",
   "mimetype": "text/x-python",
   "name": "python",
   "nbconvert_exporter": "python",
   "pygments_lexer": "ipython3",
   "version": "3.10.0"
  },
  "orig_nbformat": 4
 },
 "nbformat": 4,
 "nbformat_minor": 2
}
