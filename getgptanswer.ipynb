{
 "cells": [
  {
   "cell_type": "code",
   "execution_count": 1,
   "metadata": {},
   "outputs": [],
   "source": [
    "# Use openai to provide answers with explanations that will be use to populate tha chat column and the answer column\n",
    "# import the packages necessary to use openai\n",
    "import openai\n",
    "import os\n",
    "import pandas as pd\n",
    "import numpy as np\n",
    "from dotenv import load_dotenv\n",
    "load_dotenv()\n",
    "openai.api_key = os.getenv('OPENAI_API_KEY')"
   ]
  },
  {
   "cell_type": "code",
   "execution_count": 21,
   "metadata": {},
   "outputs": [],
   "source": [
    "def BasicGeneration(userPrompt):\n",
    "    completion = openai.ChatCompletion.create(\n",
    "        model = \"gpt-3.5-turbo\",\n",
    "        messages = [\n",
    "            {\"role\": \"user\", \"content\": userPrompt}\n",
    "        ]\n",
    "    )\n",
    "    return completion.choices[0].message.content"
   ]
  },
  {
   "cell_type": "code",
   "execution_count": 10,
   "metadata": {},
   "outputs": [],
   "source": [
    "# open plabfile_cleaned.csv in pandas\n",
    "working_df = pd.read_csv('plabfile_cleaned.csv')"
   ]
  },
  {
   "cell_type": "code",
   "execution_count": null,
   "metadata": {},
   "outputs": [],
   "source": [
    "working_df['key'][1500]"
   ]
  },
  {
   "cell_type": "code",
   "execution_count": 11,
   "metadata": {},
   "outputs": [
    {
     "data": {
      "text/plain": [
       "'a'"
      ]
     },
     "execution_count": 11,
     "metadata": {},
     "output_type": "execute_result"
    }
   ],
   "source": [
    "# get the specific letter key from the key column which is after the text 'key: the key is ' and place is it a new column called key_letter\n",
    "working_df['key_letter'] = working_df['key'].str.extract(r'key: the key is ([a-z])')\n",
    "working_df['key_letter'][1500]"
   ]
  },
  {
   "cell_type": "code",
   "execution_count": 2,
   "metadata": {},
   "outputs": [],
   "source": [
    "working_df=pd.read_csv('plab_chatgpt.csv')"
   ]
  },
  {
   "cell_type": "code",
   "execution_count": 16,
   "metadata": {},
   "outputs": [],
   "source": [
    "missing=working_df[working_df['chat'].isnull()]\n",
    "finished=working_df[working_df['chat'].notnull()]"
   ]
  },
  {
   "cell_type": "code",
   "execution_count": 10,
   "metadata": {},
   "outputs": [],
   "source": [
    "finished.to_csv('finished.csv', index=False)"
   ]
  },
  {
   "cell_type": "code",
   "execution_count": 26,
   "metadata": {},
   "outputs": [
    {
     "name": "stdout",
     "output_type": "stream",
     "text": [
      "Asking question number 1558\n"
     ]
    }
   ],
   "source": [
    "import time\n",
    "\n",
    "def get_answer(working_df):\n",
    "    start_time = time.time()\n",
    "    failed_counter = 0\n",
    "    for i in range(len(working_df)):\n",
    "        \n",
    "        if pd.isnull(working_df['chat'][i]):\n",
    "            try:\n",
    "                print(f'Asking question number {i+1}')\n",
    "                question_start_time = time.time()\n",
    "                working_df['chat'][i] = BasicGeneration(f\"Improve on this answer: \\n {working_df['key'][i]} \\n To the following question in order to explain the correct answer and why the other choices are wrong. Make sure the result is just one paragraph: \\n {working_df['question'][i]} Answer: {working_df['a'][i]} {working_df['b'][i]} {working_df['c'][i]} {working_df['d'][i]} {working_df['e'][i]} {working_df['f'][i]} {working_df['g'][i]} {working_df['h'][i]} {working_df['i'][i]} {working_df['j'][i]}\")\n",
    "                elapsed_question_time = time.time() - question_start_time\n",
    "                #working_df.to_csv('plab_chatgpt.csv', index=False)\n",
    "                #if elapsed_question_time > TIMEOUT_THRESHOLD_QUESTION:\n",
    "                #    print(f'Question number {i+1} took too long. Proceeding to the next question...')\n",
    "                #    failed_counter += 1\n",
    "                #    continue\n",
    "            except:\n",
    "                print(f'Question number {i+1} failed')\n",
    "                failed_counter += 1\n",
    "                continue\n",
    "        elapsed_total_time = time.time() - start_time\n",
    "        if failed_counter > 10:\n",
    "            print(f'Failed too many times. Saving progress and exiting...')\n",
    "            #working_df.to_csv('plab_chatgpt.csv', index=False)\n",
    "            return working_df\n",
    "        if elapsed_total_time > TIMEOUT_THRESHOLD_TOTAL:\n",
    "            print(f'Total time reached 30 minutes. Saving progress and exiting...')\n",
    "            #working_df.to_csv('plab_chatgpt.csv', index=False)\n",
    "            return working_df\n",
    "       \n",
    "    # save the working_df to plab_chatgpt.csv\n",
    "    #working_df.to_csv('plab_chatgpt.csv', index=False)\n",
    "    return working_df\n",
    "\n",
    "TIMEOUT_THRESHOLD_QUESTION = 60  # 1 minute per question\n",
    "TIMEOUT_THRESHOLD_TOTAL = 30 * 60  # 30 minutes in seconds\n",
    "working_df = get_answer(working_df)\n"
   ]
  },
  {
   "cell_type": "code",
   "execution_count": 6,
   "metadata": {},
   "outputs": [
    {
     "data": {
      "text/plain": [
       "\"The correct answer is d. The axillary group of lymph nodes is the structure that is most likely involved in the 67yo female's symptoms of swelling and redness in her right upper limb. Axillary clearance, which may occur during a radical mastectomy, compromises the lymphatic flow in the affected area, leading to lymphedema or swelling of the limb. The other choices are unlikely to be involved in causing these symptoms. The epitrochlear lymph node is located in the elbow, and involvement of this node would result in swelling and tenderness around the elbow area. The cephalic vein is a superficial vein in the arm and does not play a significant role in lymphatic drainage. The subclavian artery is an artery that supplies blood to the arm and thus does not have a direct role in causing swelling or redness. The long thoracic nerve innervates the serratus anterior muscle and its injury or involvement would result in winging of the scapula, which is a different set of symptoms compared to the patient's complaint. Therefore, d. axillary group of lymph nodes is the correct answer.\""
      ]
     },
     "execution_count": 6,
     "metadata": {},
     "output_type": "execute_result"
    }
   ],
   "source": [
    "working_df['chat'][320]"
   ]
  },
  {
   "cell_type": "code",
   "execution_count": 27,
   "metadata": {},
   "outputs": [],
   "source": [
    "# save the working_df to plab_chatgpt.csv\n",
    "working_df.to_csv('plab_chatgpt.csv', index=False)"
   ]
  },
  {
   "cell_type": "code",
   "execution_count": 29,
   "metadata": {},
   "outputs": [
    {
     "data": {
      "text/plain": [
       "0       The most appropriate next step for a 65-year-o...\n",
       "1       The most probable diagnosis for the 74-year-ol...\n",
       "2       The correct answer is b. thyroid function test...\n",
       "3       The most probable diagnosis for this patient i...\n",
       "4       The most appropriate treatment for the 64-year...\n",
       "                              ...                        \n",
       "1700    chat: the given key is incorrect. the correct ...\n",
       "1701    chat: i agree that the provided answer key is ...\n",
       "1702    chat: the initial management of paracetamol ov...\n",
       "1703    chat: the answer is a. cxr (chest x-ray). in a...\n",
       "1704    chat: the answer is a. febrile convulsion. feb...\n",
       "Name: chat, Length: 1705, dtype: object"
      ]
     },
     "execution_count": 29,
     "metadata": {},
     "output_type": "execute_result"
    }
   ],
   "source": [
    "working_df['chat']"
   ]
  }
 ],
 "metadata": {
  "kernelspec": {
   "display_name": "minimal_ds",
   "language": "python",
   "name": "python3"
  },
  "language_info": {
   "codemirror_mode": {
    "name": "ipython",
    "version": 3
   },
   "file_extension": ".py",
   "mimetype": "text/x-python",
   "name": "python",
   "nbconvert_exporter": "python",
   "pygments_lexer": "ipython3",
   "version": "3.10.0"
  },
  "orig_nbformat": 4
 },
 "nbformat": 4,
 "nbformat_minor": 2
}
