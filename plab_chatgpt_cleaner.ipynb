{
 "cells": [
  {
   "cell_type": "code",
   "execution_count": 1,
   "metadata": {},
   "outputs": [],
   "source": [
    "# import the packages necessary to clean a text file\n",
    "import re\n",
    "import string\n",
    "import pandas as pd\n",
    "import numpy as np"
   ]
  },
  {
   "cell_type": "code",
   "execution_count": 3,
   "metadata": {},
   "outputs": [
    {
     "data": {
      "text/plain": [
       "'The most appropriate treatment for the 64-year-old man suffering from weight loss, insomnia, anhedonia, fatigue, and difficulty concentrating after suffering from an MI and already on aspirin, atorvastatin, and ramipril would be citalopram. Sertraline is the preferred SSRI for MI, but citalopram is the next choice. Mirtazapine is recommended if an SSRI cannot be used, but it was not listed as a possible answer. Lofepramine and dosulepin are tricyclic antidepressants and should be avoided in patients with cardiovascular disease due to their cardiotoxic effects. Fluoxetine is not recommended in elderly patients since it has a long half-life and can cause drug interactions. Phenelzine is a monoamine oxidase inhibitor, which has a high risk of hypertensive crisis and should be reserved for refractory cases. Therefore, citalopram is the most appropriate choice for this patient.'"
      ]
     },
     "execution_count": 3,
     "metadata": {},
     "output_type": "execute_result"
    }
   ],
   "source": [
    "working_df = pd.read_csv('plab_chatgpt.csv')\n",
    "working_df['chat'][4]"
   ]
  }
 ],
 "metadata": {
  "kernelspec": {
   "display_name": "minimal_ds",
   "language": "python",
   "name": "python3"
  },
  "language_info": {
   "codemirror_mode": {
    "name": "ipython",
    "version": 3
   },
   "file_extension": ".py",
   "mimetype": "text/x-python",
   "name": "python",
   "nbconvert_exporter": "python",
   "pygments_lexer": "ipython3",
   "version": "3.10.0"
  },
  "orig_nbformat": 4
 },
 "nbformat": 4,
 "nbformat_minor": 2
}
