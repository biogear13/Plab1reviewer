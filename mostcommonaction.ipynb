{
 "cells": [
  {
   "cell_type": "code",
   "execution_count": 1,
   "metadata": {},
   "outputs": [],
   "source": [
    "import pandas as pd\n",
    "import numpy as np"
   ]
  },
  {
   "cell_type": "code",
   "execution_count": 22,
   "metadata": {},
   "outputs": [
    {
     "data": {
      "text/html": [
       "<div>\n",
       "<style scoped>\n",
       "    .dataframe tbody tr th:only-of-type {\n",
       "        vertical-align: middle;\n",
       "    }\n",
       "\n",
       "    .dataframe tbody tr th {\n",
       "        vertical-align: top;\n",
       "    }\n",
       "\n",
       "    .dataframe thead th {\n",
       "        text-align: right;\n",
       "    }\n",
       "</style>\n",
       "<table border=\"1\" class=\"dataframe\">\n",
       "  <thead>\n",
       "    <tr style=\"text-align: right;\">\n",
       "      <th></th>\n",
       "      <th>Unnamed: 0</th>\n",
       "      <th>Item</th>\n",
       "      <th>Count</th>\n",
       "      <th>Correction</th>\n",
       "      <th>Unnamed: 4</th>\n",
       "    </tr>\n",
       "  </thead>\n",
       "  <tbody>\n",
       "    <tr>\n",
       "      <th>0</th>\n",
       "      <td>3332</td>\n",
       "      <td>0.05ml of 1:100</td>\n",
       "      <td>1</td>\n",
       "      <td>0.05ml of 1:100</td>\n",
       "      <td>NaN</td>\n",
       "    </tr>\n",
       "    <tr>\n",
       "      <th>1</th>\n",
       "      <td>3479</td>\n",
       "      <td>0.18% ns + 4% dextrose + 20mmol kcl</td>\n",
       "      <td>1</td>\n",
       "      <td>0.18% ns + 4% dextrose + 20mmol kcl</td>\n",
       "      <td>NaN</td>\n",
       "    </tr>\n",
       "    <tr>\n",
       "      <th>2</th>\n",
       "      <td>4518</td>\n",
       "      <td>0.25ml im adrenaline</td>\n",
       "      <td>1</td>\n",
       "      <td>0.25ml im adrenaline</td>\n",
       "      <td>NaN</td>\n",
       "    </tr>\n",
       "    <tr>\n",
       "      <th>3</th>\n",
       "      <td>4503</td>\n",
       "      <td>0.25ml iv adrenaline</td>\n",
       "      <td>1</td>\n",
       "      <td>0.25ml iv adrenaline</td>\n",
       "      <td>NaN</td>\n",
       "    </tr>\n",
       "    <tr>\n",
       "      <th>4</th>\n",
       "      <td>4506</td>\n",
       "      <td>0.25ml po adrenaline</td>\n",
       "      <td>1</td>\n",
       "      <td>0.25ml po adrenaline</td>\n",
       "      <td>NaN</td>\n",
       "    </tr>\n",
       "  </tbody>\n",
       "</table>\n",
       "</div>"
      ],
      "text/plain": [
       "   Unnamed: 0                                 Item  Count  \\\n",
       "0        3332                      0.05ml of 1:100      1   \n",
       "1        3479  0.18% ns + 4% dextrose + 20mmol kcl      1   \n",
       "2        4518                 0.25ml im adrenaline      1   \n",
       "3        4503                 0.25ml iv adrenaline      1   \n",
       "4        4506                 0.25ml po adrenaline      1   \n",
       "\n",
       "                            Correction Unnamed: 4  \n",
       "0                      0.05ml of 1:100        NaN  \n",
       "1  0.18% ns + 4% dextrose + 20mmol kcl        NaN  \n",
       "2                 0.25ml im adrenaline        NaN  \n",
       "3                 0.25ml iv adrenaline        NaN  \n",
       "4                 0.25ml po adrenaline        NaN  "
      ]
     },
     "execution_count": 22,
     "metadata": {},
     "output_type": "execute_result"
    }
   ],
   "source": [
    "df=pd.read_csv('options.csv')\n",
    "df.head()"
   ]
  },
  {
   "cell_type": "code",
   "execution_count": 17,
   "metadata": {},
   "outputs": [
    {
     "data": {
      "text/html": [
       "<div>\n",
       "<style scoped>\n",
       "    .dataframe tbody tr th:only-of-type {\n",
       "        vertical-align: middle;\n",
       "    }\n",
       "\n",
       "    .dataframe tbody tr th {\n",
       "        vertical-align: top;\n",
       "    }\n",
       "\n",
       "    .dataframe thead th {\n",
       "        text-align: right;\n",
       "    }\n",
       "</style>\n",
       "<table border=\"1\" class=\"dataframe\">\n",
       "  <thead>\n",
       "    <tr style=\"text-align: right;\">\n",
       "      <th></th>\n",
       "      <th>Unnamed: 0</th>\n",
       "      <th>Item</th>\n",
       "      <th>Count</th>\n",
       "      <th>Correction</th>\n",
       "      <th>Unnamed: 4</th>\n",
       "    </tr>\n",
       "  </thead>\n",
       "  <tbody>\n",
       "    <tr>\n",
       "      <th>0</th>\n",
       "      <td>3332</td>\n",
       "      <td>0.05ml of 1:100</td>\n",
       "      <td>1</td>\n",
       "      <td>0.05ml of 1:100</td>\n",
       "      <td>NaN</td>\n",
       "    </tr>\n",
       "    <tr>\n",
       "      <th>1</th>\n",
       "      <td>3479</td>\n",
       "      <td>0.18% ns + 4% dextrose + 20mmol kcl</td>\n",
       "      <td>1</td>\n",
       "      <td>0.18% ns + 4% dextrose + 20mmol kcl</td>\n",
       "      <td>NaN</td>\n",
       "    </tr>\n",
       "    <tr>\n",
       "      <th>2</th>\n",
       "      <td>4518</td>\n",
       "      <td>0.25ml im adrenaline</td>\n",
       "      <td>1</td>\n",
       "      <td>0.25ml im adrenaline</td>\n",
       "      <td>NaN</td>\n",
       "    </tr>\n",
       "    <tr>\n",
       "      <th>3</th>\n",
       "      <td>4503</td>\n",
       "      <td>0.25ml iv adrenaline</td>\n",
       "      <td>1</td>\n",
       "      <td>0.25ml iv adrenaline</td>\n",
       "      <td>NaN</td>\n",
       "    </tr>\n",
       "    <tr>\n",
       "      <th>4</th>\n",
       "      <td>4506</td>\n",
       "      <td>0.25ml po adrenaline</td>\n",
       "      <td>1</td>\n",
       "      <td>0.25ml po adrenaline</td>\n",
       "      <td>NaN</td>\n",
       "    </tr>\n",
       "  </tbody>\n",
       "</table>\n",
       "</div>"
      ],
      "text/plain": [
       "   Unnamed: 0                                 Item  Count  \\\n",
       "0        3332                      0.05ml of 1:100      1   \n",
       "1        3479  0.18% ns + 4% dextrose + 20mmol kcl      1   \n",
       "2        4518                 0.25ml im adrenaline      1   \n",
       "3        4503                 0.25ml iv adrenaline      1   \n",
       "4        4506                 0.25ml po adrenaline      1   \n",
       "\n",
       "                            Correction Unnamed: 4  \n",
       "0                      0.05ml of 1:100        NaN  \n",
       "1  0.18% ns + 4% dextrose + 20mmol kcl        NaN  \n",
       "2                 0.25ml im adrenaline        NaN  \n",
       "3                 0.25ml iv adrenaline        NaN  \n",
       "4                 0.25ml po adrenaline        NaN  "
      ]
     },
     "execution_count": 17,
     "metadata": {},
     "output_type": "execute_result"
    }
   ],
   "source": [
    "df['Correction'] = df.apply(lambda row: row['Item'] if pd.isnull(row['Correction']) else row['Correction'], axis=1)\n",
    "df.head()"
   ]
  },
  {
   "cell_type": "code",
   "execution_count": 9,
   "metadata": {},
   "outputs": [],
   "source": [
    "df.to_csv('options.csv', index=False)"
   ]
  },
  {
   "cell_type": "code",
   "execution_count": 25,
   "metadata": {},
   "outputs": [],
   "source": [
    "df=df.groupby(['Correction'])['Count'].sum().sort_values(ascending=False).reset_index()"
   ]
  },
  {
   "cell_type": "code",
   "execution_count": 20,
   "metadata": {},
   "outputs": [],
   "source": [
    "df.to_csv('topics.csv', index=False)"
   ]
  },
  {
   "cell_type": "code",
   "execution_count": null,
   "metadata": {},
   "outputs": [],
   "source": []
  }
 ],
 "metadata": {
  "kernelspec": {
   "display_name": ".venv",
   "language": "python",
   "name": "python3"
  },
  "language_info": {
   "codemirror_mode": {
    "name": "ipython",
    "version": 3
   },
   "file_extension": ".py",
   "mimetype": "text/x-python",
   "name": "python",
   "nbconvert_exporter": "python",
   "pygments_lexer": "ipython3",
   "version": "3.10.8"
  },
  "orig_nbformat": 4
 },
 "nbformat": 4,
 "nbformat_minor": 2
}
