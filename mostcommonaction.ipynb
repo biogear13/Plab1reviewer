{
 "cells": [
  {
   "cell_type": "code",
   "execution_count": 1,
   "metadata": {},
   "outputs": [],
   "source": [
    "import pandas as pd\n",
    "import numpy as np"
   ]
  },
  {
   "cell_type": "code",
   "execution_count": 7,
   "metadata": {},
   "outputs": [
    {
     "data": {
      "text/html": [
       "<div>\n",
       "<style scoped>\n",
       "    .dataframe tbody tr th:only-of-type {\n",
       "        vertical-align: middle;\n",
       "    }\n",
       "\n",
       "    .dataframe tbody tr th {\n",
       "        vertical-align: top;\n",
       "    }\n",
       "\n",
       "    .dataframe thead th {\n",
       "        text-align: right;\n",
       "    }\n",
       "</style>\n",
       "<table border=\"1\" class=\"dataframe\">\n",
       "  <thead>\n",
       "    <tr style=\"text-align: right;\">\n",
       "      <th></th>\n",
       "      <th>Unnamed: 0</th>\n",
       "      <th>Item</th>\n",
       "      <th>Count</th>\n",
       "      <th>Correction</th>\n",
       "      <th>Unnamed: 4</th>\n",
       "    </tr>\n",
       "  </thead>\n",
       "  <tbody>\n",
       "    <tr>\n",
       "      <th>0</th>\n",
       "      <td>3332</td>\n",
       "      <td>0.05ml of 1:100</td>\n",
       "      <td>1</td>\n",
       "      <td>NaN</td>\n",
       "      <td>NaN</td>\n",
       "    </tr>\n",
       "    <tr>\n",
       "      <th>1</th>\n",
       "      <td>3479</td>\n",
       "      <td>0.18% ns + 4% dextrose + 20mmol kcl</td>\n",
       "      <td>1</td>\n",
       "      <td>NaN</td>\n",
       "      <td>NaN</td>\n",
       "    </tr>\n",
       "    <tr>\n",
       "      <th>2</th>\n",
       "      <td>4518</td>\n",
       "      <td>0.25ml im adrenaline</td>\n",
       "      <td>1</td>\n",
       "      <td>NaN</td>\n",
       "      <td>NaN</td>\n",
       "    </tr>\n",
       "    <tr>\n",
       "      <th>3</th>\n",
       "      <td>4503</td>\n",
       "      <td>0.25ml iv adrenaline</td>\n",
       "      <td>1</td>\n",
       "      <td>NaN</td>\n",
       "      <td>NaN</td>\n",
       "    </tr>\n",
       "    <tr>\n",
       "      <th>4</th>\n",
       "      <td>4506</td>\n",
       "      <td>0.25ml po adrenaline</td>\n",
       "      <td>1</td>\n",
       "      <td>NaN</td>\n",
       "      <td>NaN</td>\n",
       "    </tr>\n",
       "  </tbody>\n",
       "</table>\n",
       "</div>"
      ],
      "text/plain": [
       "   Unnamed: 0                                 Item  Count Correction  \\\n",
       "0        3332                      0.05ml of 1:100      1        NaN   \n",
       "1        3479  0.18% ns + 4% dextrose + 20mmol kcl      1        NaN   \n",
       "2        4518                 0.25ml im adrenaline      1        NaN   \n",
       "3        4503                 0.25ml iv adrenaline      1        NaN   \n",
       "4        4506                 0.25ml po adrenaline      1        NaN   \n",
       "\n",
       "  Unnamed: 4  \n",
       "0        NaN  \n",
       "1        NaN  \n",
       "2        NaN  \n",
       "3        NaN  \n",
       "4        NaN  "
      ]
     },
     "execution_count": 7,
     "metadata": {},
     "output_type": "execute_result"
    }
   ],
   "source": [
    "df=pd.read_csv('options.csv')\n",
    "df.head()"
   ]
  },
  {
   "cell_type": "code",
   "execution_count": 8,
   "metadata": {},
   "outputs": [
    {
     "data": {
      "text/html": [
       "<div>\n",
       "<style scoped>\n",
       "    .dataframe tbody tr th:only-of-type {\n",
       "        vertical-align: middle;\n",
       "    }\n",
       "\n",
       "    .dataframe tbody tr th {\n",
       "        vertical-align: top;\n",
       "    }\n",
       "\n",
       "    .dataframe thead th {\n",
       "        text-align: right;\n",
       "    }\n",
       "</style>\n",
       "<table border=\"1\" class=\"dataframe\">\n",
       "  <thead>\n",
       "    <tr style=\"text-align: right;\">\n",
       "      <th></th>\n",
       "      <th>Unnamed: 0</th>\n",
       "      <th>Item</th>\n",
       "      <th>Count</th>\n",
       "      <th>Correction</th>\n",
       "      <th>Unnamed: 4</th>\n",
       "    </tr>\n",
       "  </thead>\n",
       "  <tbody>\n",
       "    <tr>\n",
       "      <th>0</th>\n",
       "      <td>3332</td>\n",
       "      <td>0.05ml of 1:100</td>\n",
       "      <td>1</td>\n",
       "      <td>0.05ml of 1:100</td>\n",
       "      <td>NaN</td>\n",
       "    </tr>\n",
       "    <tr>\n",
       "      <th>1</th>\n",
       "      <td>3479</td>\n",
       "      <td>0.18% ns + 4% dextrose + 20mmol kcl</td>\n",
       "      <td>1</td>\n",
       "      <td>0.18% ns + 4% dextrose + 20mmol kcl</td>\n",
       "      <td>NaN</td>\n",
       "    </tr>\n",
       "    <tr>\n",
       "      <th>2</th>\n",
       "      <td>4518</td>\n",
       "      <td>0.25ml im adrenaline</td>\n",
       "      <td>1</td>\n",
       "      <td>0.25ml im adrenaline</td>\n",
       "      <td>NaN</td>\n",
       "    </tr>\n",
       "    <tr>\n",
       "      <th>3</th>\n",
       "      <td>4503</td>\n",
       "      <td>0.25ml iv adrenaline</td>\n",
       "      <td>1</td>\n",
       "      <td>0.25ml iv adrenaline</td>\n",
       "      <td>NaN</td>\n",
       "    </tr>\n",
       "    <tr>\n",
       "      <th>4</th>\n",
       "      <td>4506</td>\n",
       "      <td>0.25ml po adrenaline</td>\n",
       "      <td>1</td>\n",
       "      <td>0.25ml po adrenaline</td>\n",
       "      <td>NaN</td>\n",
       "    </tr>\n",
       "  </tbody>\n",
       "</table>\n",
       "</div>"
      ],
      "text/plain": [
       "   Unnamed: 0                                 Item  Count  \\\n",
       "0        3332                      0.05ml of 1:100      1   \n",
       "1        3479  0.18% ns + 4% dextrose + 20mmol kcl      1   \n",
       "2        4518                 0.25ml im adrenaline      1   \n",
       "3        4503                 0.25ml iv adrenaline      1   \n",
       "4        4506                 0.25ml po adrenaline      1   \n",
       "\n",
       "                            Correction Unnamed: 4  \n",
       "0                      0.05ml of 1:100        NaN  \n",
       "1  0.18% ns + 4% dextrose + 20mmol kcl        NaN  \n",
       "2                 0.25ml im adrenaline        NaN  \n",
       "3                 0.25ml iv adrenaline        NaN  \n",
       "4                 0.25ml po adrenaline        NaN  "
      ]
     },
     "execution_count": 8,
     "metadata": {},
     "output_type": "execute_result"
    }
   ],
   "source": [
    "df['Correction'] = df.apply(lambda row: row['Item'] if pd.isnull(row['Correction']) else row['Correction'], axis=1)\n",
    "df.head()"
   ]
  },
  {
   "cell_type": "code",
   "execution_count": 9,
   "metadata": {},
   "outputs": [],
   "source": [
    "df.to_csv('options.csv', index=False)"
   ]
  },
  {
   "cell_type": "code",
   "execution_count": 12,
   "metadata": {},
   "outputs": [
    {
     "data": {
      "text/plain": [
       "Correction\n",
       "ct                                  54\n",
       "cxr                                 40\n",
       "mri                                 38\n",
       "reassure                            34\n",
       "ultrasound                          33\n",
       "none                                25\n",
       "antibiotics                         25\n",
       "combined oral contraceptive pill    22\n",
       "diazepam                            21\n",
       "us abdomen                          20\n",
       "ecg                                 20\n",
       "iv fluids                           20\n",
       "schizophrenia                       19\n",
       "reassurance                         18\n",
       "cognitive behavioral therapy        17\n",
       "tuberculosis                        17\n",
       "pulmonary embolism                  16\n",
       "sarcoidosis                         16\n",
       "lymphoma                            16\n",
       "cushing’s syndrome                  16\n",
       "generalized anxiety disorder        15\n",
       "blood culture                       15\n",
       "colonoscopy                         15\n",
       "thryroid function test              15\n",
       "subarachnoid hemorrhage             14\n",
       "bipolar affective disorder          14\n",
       "mri brain                           14\n",
       "aspirin                             14\n",
       "immune thrombocytopenic purpura     14\n",
       "ct brain                            14\n",
       "haloperidol                         13\n",
       "esophageal carcinoma                13\n",
       "abdominal us                        13\n",
       "ct head                             13\n",
       "arterial blood gas                  13\n",
       "complete blood count                13\n",
       "supraventricular tachycardia        13\n",
       "liver function test                 13\n",
       "ectopic pregnancy                   13\n",
       "erythrocyte sedimentation rate      12\n",
       "Name: Count, dtype: int64"
      ]
     },
     "execution_count": 12,
     "metadata": {},
     "output_type": "execute_result"
    }
   ],
   "source": [
    "df.groupby(['Correction'])['Count'].sum().sort_values(ascending=False).head(40)"
   ]
  },
  {
   "cell_type": "code",
   "execution_count": null,
   "metadata": {},
   "outputs": [],
   "source": [
    "df.to_csv('topics.csv', index=False)"
   ]
  }
 ],
 "metadata": {
  "kernelspec": {
   "display_name": ".venv",
   "language": "python",
   "name": "python3"
  },
  "language_info": {
   "codemirror_mode": {
    "name": "ipython",
    "version": 3
   },
   "file_extension": ".py",
   "mimetype": "text/x-python",
   "name": "python",
   "nbconvert_exporter": "python",
   "pygments_lexer": "ipython3",
   "version": "3.10.8"
  },
  "orig_nbformat": 4
 },
 "nbformat": 4,
 "nbformat_minor": 2
}
